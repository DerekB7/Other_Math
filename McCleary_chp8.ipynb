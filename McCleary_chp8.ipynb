{
 "cells": [
  {
   "cell_type": "markdown",
   "metadata": {},
   "source": [
    "**ex 8.1**  \n",
    "*discuss, there are some lingering subtleties*  \n",
    "\n",
    "Suppose that $f:S^1\\longrightarrow S^1$ has an extension $\\hat f: D^2\\longrightarrow S^1$ (where $D^2$ is the closed unit 2-Disk... McCleary uses the notation $e^2$ here which is awkward since $e$ commonly denotes the identity element of a group and McCleary repeatedly uses such notation e.g .on page 119 and then later on that page has $e^2$ as the 2-disk, but, not to mention, ignoring a typo, McCleary uses $D^2$ to denote the 2-disk in ex 4.7 on p.65 though he uses $e^2$ to denote the 2-disk on p. 61... notation is inconsistent for no good reason)  \n",
    "that is the mapping $\\hat f$ satisfies   \n",
    "$\\hat f \\circ i = f$, where $i: S^1\\longrightarrow D^2$ is the inclusion map.  Show that $f$ is **null-homotopic**, that is $f$ is homotopic to the constant map.  \n",
    "- - - - \n",
    "The essence of the proof comes from that bottom half of page 100 as well as very bottom and top of pages 120-121. So mimicking bottom of page 120, instead of the identity map we have  \n",
    "\n",
    "$f: S^1 \\xrightarrow{i} D^2 \\xrightarrow{\\hat{f}} S^1$  \n",
    "and in terms of group homomorphisms  \n",
    "$f_*:\\pi_1\\big(S^1\\big) \\xrightarrow{i_*} \\pi_1\\big(D^2\\big) \\xrightarrow{\\hat{f}_*} \\pi_1\\big(S^1\\big)$  \n",
    "\n",
    "however $D^2$ being convex is simply connected hence $\\pi(D^2) = \\{e\\}$ \n",
    "-- i.e. it has the trivial fundamental group hence the RHS is the trivial group as well and $\\ker f_*=\\pi_1\\big(S^1\\big)=\\ker i_*$  \n",
    "\n",
    "now revisiting the bottom half of page 100, we have some arbitrary loop $\\lambda$ in the Domain $S_1$ and  \n",
    "$e=f_*\\Big(\\big[\\lambda\\big]\\Big)= \\big[f\\circ \\lambda\\big]$  \n",
    "hence the RHS is homotopic to a constant.  Since the loop $\\lambda$ was arbitrary, we conclude $f$ is null homotopic.  \n",
    "\n",
    "**Dicuss: a different approach via winding numbers**\n",
    "This may be incomplete, but an interesting approach is to take rudiments of what we know about $\\pi\\big(S_1\\big)$ and tease out a winding number based proof.  \n",
    "\n",
    "The most basic framing is, consider $D^2$. If $y \\not\\in \\hat f\\big(D^2\\big)$ then via homotopy to a constant, we know $y$ has a winding number of zero.  By contrapositive: if $y$ has a winding number $\\neq 0$ then it is in the image of $\\hat f$.  \n",
    "\n",
    "Suppose $f$ is not null-homotopic.  Then by its fundamental group, if we consider the loop $\\lambda$ starting at the 'north pole' of $S^1$, running counter clockwise once around, then $f_*\\Big(\\big[\\lambda\\big]\\Big)= \\big[f\\circ \\lambda\\big]\\cong n \\in \\mathbb Z-\\big\\{0\\big\\}$   \n",
    "\n",
    "now consider arbitrary $x$ in the *interior* of $D^2$ (i.e. in the open 2-disk).  Then $x$ has winding number $n$ under the image of $\\hat f$ applied to the above loop so $x \\in \\hat f \\big(D^2)\\big)$. But the co-domain of $\\hat f$ is $S_1$ which doesn't contain $x$, a contradiction. (Formally it is problematic to talk about the winding number for $y$ not in the Co-domain so running the argument instead as $g:= i\\circ \\hat f$ hence $g:D^2\\longrightarrow D^2$ with the same image as $\\hat f$ is a cleaner argument.)   \n",
    "\n"
   ]
  },
  {
   "cell_type": "markdown",
   "metadata": {},
   "source": [
    "**ex 8.2**  \n",
    "discuss  "
   ]
  },
  {
   "cell_type": "code",
   "execution_count": null,
   "metadata": {},
   "outputs": [],
   "source": []
  },
  {
   "cell_type": "markdown",
   "metadata": {},
   "source": [
    "**ex 8.3**  \n",
    "Suppose that $X$ is simply connected (i.e. path connected and all maps are null-homotopic) and $p:\\hat X \\longrightarrow X$ is a covering space of $X$.  Show that $p$ is a homeomorphism.  \n",
    "\n",
    "**tbc**  \n",
    "revisiting def 8.1, this is should be equivalent to showing that $p$ is injective, because each for each open path-connected $U\\in X$ then $p^{-1}(U)$ is homeo $U$ by restriction of $p$ -- but being injective means no restribution is needed.  Taking the union over all $x\\in X$ should give a homeomorphism between the spaces.  \n",
    "\n",
    "Then reconsider Lemma 8.2 on page 112 (and the associated pictures on top of said page).  It seems we should be able to exploit this or some other uniqueness criterion to finish.  "
   ]
  },
  {
   "cell_type": "code",
   "execution_count": null,
   "metadata": {},
   "outputs": [],
   "source": []
  }
 ],
 "metadata": {
  "kernelspec": {
   "display_name": "Python 3",
   "language": "python",
   "name": "python3"
  },
  "language_info": {
   "codemirror_mode": {
    "name": "ipython",
    "version": 3
   },
   "file_extension": ".py",
   "mimetype": "text/x-python",
   "name": "python",
   "nbconvert_exporter": "python",
   "pygments_lexer": "ipython3",
   "version": "3.8.5"
  }
 },
 "nbformat": 4,
 "nbformat_minor": 4
}
