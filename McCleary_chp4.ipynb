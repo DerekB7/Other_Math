{
 "cells": [
  {
   "cell_type": "markdown",
   "metadata": {},
   "source": [
    "**ex 4.1**  \n",
    "see ex 3.6  "
   ]
  },
  {
   "cell_type": "markdown",
   "metadata": {},
   "source": [
    "**ex 4.2**  \n",
    "\n",
    "*(i)* Show that a space $X$ is Hausdorff if and only if the subset $\\Delta X = \\big\\{(x,x)\\vert x \\in X\\big\\}$ is a closed subset of the product space $X\\times X$.  \n",
    "\n",
    "Direction 1: $\\Delta X \\text{ is closed} \\implies X\\text{ is Hausdorff}$   \n",
    "equivalently we have $\\Delta X^C = \\big\\{(x,y)\\vert x\\neq y \\in X\\big\\}$  is open  \n",
    "referencing def 4.9 on p. 52 we recaLL that the product topology has a basis  \n",
    "$\\mathfrak B=\\big\\{U\\times V \\vert U, \\text{ open in } X, V \\text{ open in } Y\\big\\}$  \n",
    "and in this case $Y=X$ so this implies there is some $U$ and some $V$ with $x\\in U$ and $y\\in V$  and $U\\cap V = \\big\\{\\big\\}$  \n",
    "(if the intersection wasn't empty, i.e. if $z \\in U\\cap V$ then $(z,z) \\in \\Delta X^C$ which would be a contradiction  \n",
    "\n",
    "Direction 2: $X\\text{ is Hausdorff} \\implies \\Delta X \\text{ is closed} $   \n",
    "it would seem that the most direct route would be to run the above argument backwards.  However, here is a different approach.  \n",
    "\n",
    "from Theorem 3.10 (p. 34) we know that the limits of a sequence are unique in Hausdorff space.  Thus  \n",
    "for arbitrary sequence $x_k \\to x'$ \n",
    "that $x'$ is unique (i.e. convergence is an equality not just an equivalence relation)  \n",
    "\n",
    "This implies $(x_k,x_k)\\to (x',x')$  \n",
    "\n",
    "$\\Delta^C$ must contain all of its limit points and by prop 3.2 (p.30) we know this means it is closed.  \n",
    "\n",
    "note: it can be helpful to consider a space without unique limits and $x_k\\to x'$ and $x_k\\to x''$ then limit points include $\\big\\{(x',x'), (x',x''), (x'',x'), (x'',x'')\\big\\}$ and the two mixed tuples are $\\notin \\Delta X$  \n",
    "\n",
    "*(ii)*  Suppose $X$ and $Y$  are Hausdorff spaces.  Show that $X\\times Y$ is also Hausdorff.  \n",
    "Since $X$ and $Y$ are each Hausdorff we know \n",
    "for $x\\neq x' \\in X$ and $y\\neq y' \\in Y$  \n",
    "there is some (all sets open) $U$ and some $V$ with $x\\in U$ and $x'\\in U'$  and $y\\in V$, $y' \\in V'$  where \n",
    "$U\\cap U' = \\big\\{\\big\\}$ and $V\\cap V'=\\big\\{\\big\\}$  \n",
    "\n",
    "our basis includes for the product space includes  \n",
    "$(U\\times V)$ and $(U'\\times V'$)  \n",
    "so for $(x,y), (x',y')$ we have  \n",
    "open sets  \n",
    "$(U\\times V)$ and $(U'\\times V')$ where  \n",
    "$(U\\times V)\\cap( U'\\times V') = (U\\cap U' \\times V\\cap V')= \\Big(\\big\\{\\big\\} \\times \\big\\{\\big\\}\\Big)$\n",
    "\n",
    "\n",
    "*however*  \n",
    "the above neglects a case that can throw people off in dealing with product spaces-- what about when considering $(x,y)$ and $(x,y')$? (i.e. WLOG the first of two components is a repeat) then   \n",
    "\n",
    "$\\Big(U\\times V\\Big)$ and $\\Big(U\\times V'\\Big)$ are open  so  \n",
    "$\\Big(U\\times V)\\cap \\Big( U\\times V'\\Big) = \\Big(U\\cap U \\times V\\cap V'\\Big)= \\Big(U\\times \\big\\{\\big\\}\\Big)=\\Big\\{\\Big\\}$  \n",
    "\n",
    "(e.g. checking the definition on p.53 we see that this product is in fact a cartesian product involving at least one empty set and hence is the empty set).  \n",
    "\n",
    "\n",
    "\n",
    "*(iii)*  Finish the proof of Theorem 4.21  \n",
    "**deferred** until next time    \n"
   ]
  },
  {
   "cell_type": "code",
   "execution_count": null,
   "metadata": {},
   "outputs": [],
   "source": []
  },
  {
   "cell_type": "markdown",
   "metadata": {},
   "source": [
    "**ex 4.4**  \n",
    "Suppose that we have two pointed spaces $(X,x_0)$ and $(Y,y_0)$.  Show that the mappings $f_1: X\\longrightarrow X\\times Y$ given by $x\\mapsto (x,y_0)$, and $f_2: Y\\longrightarrow X\\times Y$ given by $y\\mapsto (x_0,y)$, are each continuous, and have continuous **sections**.  (A section is a function $g$ that is the left inverse of $f$ where $f$ must be injective but may not be surjective.)  \n",
    "\n",
    "note: the above $f_i$ are not mappings of pairs  \n",
    "\n",
    "*(i)* $f_i$ is continuous (WLOG we show this for $f_1$)  \n",
    "if $U\\times \\{y_o\\}$ is open in the co-Domain, then  \n",
    "$f_1^{-1}\\big(U\\times \\{y_o\\}\\big) = U$ is open in $X$ so $f_1$ is continuous  \n",
    "(again check the basis $\\mathfrak B$ in def 4.9$)   \n",
    "\n",
    "*(ii)* $g_i$ *section / the left inverse* is continuous (WLOG we show this for $g_1$)  \n",
    "note 1: that $g_1$ is really $\\text{pr}_1 : X\\times Y \\longrightarrow X$, the *projection* from page 52  \n",
    "note 2: it is immediate that $f_1$ is injective -- either by composing it with said projection which is a left inverse which only exists for injective maps, or by direct inspection  \n",
    "\n",
    "so if $U\\subseteq X$ is open then  \n",
    "$g_i^{-1}(U) =\\text{pr}_1^{-1}(U) = U\\times Y$ is open because $U$ and $Y$ are both open and we check Def 4.9 \n",
    "\n",
    "\n",
    "\n",
    "**TBC the above:** It seems like the question *should* be asking something more   \n"
   ]
  },
  {
   "cell_type": "code",
   "execution_count": null,
   "metadata": {},
   "outputs": [],
   "source": []
  }
 ],
 "metadata": {
  "kernelspec": {
   "display_name": "Python 3",
   "language": "python",
   "name": "python3"
  },
  "language_info": {
   "codemirror_mode": {
    "name": "ipython",
    "version": 3
   },
   "file_extension": ".py",
   "mimetype": "text/x-python",
   "name": "python",
   "nbconvert_exporter": "python",
   "pygments_lexer": "ipython3",
   "version": "3.8.5"
  }
 },
 "nbformat": 4,
 "nbformat_minor": 4
}
