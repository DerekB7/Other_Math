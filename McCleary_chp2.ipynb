{
 "cells": [
  {
   "cell_type": "markdown",
   "metadata": {},
   "source": [
    "**notes on continuity**   \n",
    "\n",
    "standard approach with a metric \n",
    "referencing page 17 of Steenrod and Chinn (using B for open ball whereas they use N for neighborhood -- same thing)  \n",
    "where $f: X\\longrightarrow Y$  \n",
    "$f$ is continuous if for any $x\\in X$, for every $\\epsilon \\gt 0$ there is some $\\delta \\gt 0$ such that   \n",
    "(1) $f\\big( B(x,\\delta, X)\\big) \\subseteq B\\big(f(x),\\epsilon,Y\\big)$   \n",
    "\n",
    "McCleary suggests instead that we use  \n",
    "(2)  $B\\big(x,\\delta, X\\big) \\subseteq f^{-1}\\Big(B\\big(f(x),\\epsilon,Y\\big)\\Big)$   \n",
    "\n",
    "below we reconcile these two different definitions  \n",
    "(i) $f\\Big(B\\big(x,\\delta, X\\big)\\Big) \\subseteq f\\Big(f^{-1}\\Big(B\\big(f(x),\\epsilon,Y\\big)\\Big)\\Big)$   \n",
    "and \n",
    "$f\\Big(f^{-1}\\Big(B\\big(f(x),\\epsilon,Y\\big)\\Big)\\Big)\\subseteq B\\big(f(x),\\epsilon,Y\\big)$   \n",
    "by ex 1.1.d, hence  \n",
    "$f\\Big(B\\big(x,\\delta, X\\big)\\Big) \\subseteq B\\big(f(x),\\epsilon,Y\\big)$   \n",
    "i.e. $(2)\\implies (1)$  \n",
    "\n",
    "(ii) and if we start with (1) and apply the pre-image relation, we get  \n",
    "$f^{-1}\\Big(f\\big( B(x,\\delta, X)\\big)\\Big) \\subseteq f^{-1}\\Big(B\\big(f(x),\\epsilon,Y\\big)\\Big)$   \n",
    "by ex 1.1.a, and  \n",
    "$B(x,\\delta, X)\\big) \\subseteq f^{-1}\\Big(f\\big( B(x,\\delta, X)\\big)\\Big) $   \n",
    "by ex 1.1.e  \n",
    "i.e. $(1)\\implies (2)$  \n",
    "\n",
    "so they are equivalent conditions  "
   ]
  },
  {
   "cell_type": "code",
   "execution_count": null,
   "metadata": {},
   "outputs": [],
   "source": []
  },
  {
   "cell_type": "markdown",
   "metadata": {},
   "source": [
    "**ex 2.1**  \n",
    "Prove Proposition 2.8   \n",
    "**probably type up  see my notes**   "
   ]
  },
  {
   "cell_type": "markdown",
   "metadata": {},
   "source": [
    "**ex 2.2**  \n",
    "# not sure worth typing up  -- see my notes"
   ]
  },
  {
   "cell_type": "markdown",
   "metadata": {},
   "source": [
    "**ex 2.3**  \n",
    "Suppose that $X$ is an *uncountable* set and that $x_0$ is some given point in $X$.  Let $T_F$ be the collection of subsets $T_F =\\big\\{U \\subseteq X \\big \\vert X-U \\text{ is finite or }x_0 \\not \\in U\\big\\}$.  Show that $T_F$ is a topology on $X$, called the **Fort Topology**.   \n",
    "\n",
    "*remark:* this shows up in future chapters.   \n",
    "**open question:** what is the purpose of being uncountable?  Would a countably $\\infty$ set work?   \n",
    "\n",
    "note: $T_F$ is finer than $T_{FC}$, the finite complement topology given under example (4) on page 20-21. And to prove that $T_F$ is a topology, we can use the fact that it inherits certain properties from $T_{FC}$.   \n",
    "\n",
    "$X$ is open (let $U=\\{\\}$)  \n",
    "and the empty set is included (let $U=X$)   \n",
    "\n",
    "**(a)** to show this is closed under arbitrary unions  \n",
    "(i) for unions purely of the form, where $X-U$ is finite -- we inherit this from $T_{F}$  \n",
    "(ii) for unions purely $x_0 \\not \\in U$, then it is immediate this is preserved under unions (e.g. $U\\subseteq \\{x\\}^C$ and take unions over both.  \n",
    "(iii) since union operations commute, it remains to consider a single binary union between $U$ satisfying condition (i) and $U'$ satisfying condition (ii).  As in the proof for $T_{FC}$ we attack the complement:  \n",
    "\n",
    "$X-\\Big(U\\bigcup U'\\Big)=\\big(X-U\\Big)\\bigcap \\big(X-U'\\Big)$   \n",
    "the former is finite, so the intersection is finite, thus  $X-\\Big(U\\bigcup U'\\Big)= \\Big(U\\bigcup U'\\Big)^C$ is finite and satisfies criterion (i)  \n",
    "\n",
    "**(b)** to show this is closed under finite intersections  \n",
    "(i) again we inherit this from the proof on p.20-21 for $T_{FC}$  \n",
    "(ii) it is immediate that the intersection of finitely many sets not containing $x_{0}$ does not contain $x_{0}$  \n",
    "(iii) again we need to show that a single binary intersection of $U$ satisfying (i) and $U'$ satisfying (ii) meets one of these criterion and \n",
    "\n",
    "$x_0\\not\\in U'\\implies x\n"
   ]
  },
  {
   "cell_type": "markdown",
   "metadata": {},
   "source": [
    "**ex 2.4**  \n",
    "Suppose $X=Bdd\\big([0,1], \\mathbb R\\big)$ is the metric space of bounded real-valued functions on $[0,1]$.  Let $F:X\\longrightarrow \\mathbb R$ be defined by $F(f)= f(1)$.  Show that this is a continuous function when $\\mathbb R$ has the usual topology.  \n",
    "- - - -  \n",
    "(note: this could be done in 1 line though the below unpacks this into several pieces)  \n",
    "remark the $X = Bdd([0,1],\\mathbb R)$  \n",
    "is discussed in detail on pages 17-18, and the below assumes our metric is the same $d(f_1,f_2) = \\sup_{x\\in X}\\big \\vert f_1(x)-f_2(x)\\big\\vert $ as on page 18  \n",
    "\n",
    "let $V$ be open in $\\mathbb R$ -- in particular it suffices to let $V:= (a,b)$ where implicitly $\\epsilon = \\frac{b-a}{2}$ for some $f(1)= \\frac{b-a}{2}$   \n",
    "\n",
    "then referencing def 2.9 (p. 24) we need to show that  \n",
    "$F^{-1}(V)$ is open in $X$.  Finally referencing def 2.3 (p. 18)  \n",
    "$B(f,\\delta := \\epsilon) \\subseteq F^{-1}(V)$  \n",
    "(since everything on the LHS has a distance from $f$ that is bounded above by $\\epsilon$ using the sup metric)  \n",
    "\n",
    "note: referencing example 3 on p. 23, we know open sets of the form $(a,b)$ form a basis for the topology given by the image $F(X)$.  Hence any open set in $F(X)$ may be written as a union of open intervals of the form $(a,b)$  but when we take a union over $B(f,\\delta := \\epsilon)$ we necessarily get a pre-image that is open as well (open sets are closed under arbitrary unions).   "
   ]
  },
  {
   "cell_type": "markdown",
   "metadata": {},
   "source": [
    "**ex 2.5**  \n",
    "A space $(X,T)$ is said to have the **fixed point property** (FPP) if any continuous function $f:(X,T) \\to (X,T)$ has a fixed point, that is there is some $x\\in X$ with $f(x) =x$.  Prove that the FPP is a topological property (i.e. it is preserved under homeomorphism).  \n",
    "\n",
    "*note:* this should remind of of eigenvalues of one with a linear operator, or perhaps exploiting properties of conjugacy classes in group theory  \n",
    "\n",
    "*proof:*  \n",
    "let $g$ be a homeomorphism, $g: (X,T)\\longrightarrow (Y,T_Y)$.  Then  \n",
    "$h: (Y,T_Y)\\longrightarrow (Y,T_Y)$  given by  \n",
    "$h:= g\\circ f \\circ g^{-1}$ has a fixed point. In particular for fixed point $X$, if $g(x) = y$ then  \n",
    "$h(y) = g\\circ f \\circ g^{-1}(y) = g\\big(f(x)\\big)= g\\big(x\\big) = y$  \n",
    "\n",
    "where $h$ is continuous because the composition of continuous functions is continuous   \n",
    "(formal justification: use theorem 2.11 on p.24 so $(f \\circ g^{-1})$ is continuous and $g\\circ (f \\circ g^{-1})$ is continuous)   "
   ]
  },
  {
   "cell_type": "markdown",
   "metadata": {},
   "source": [
    "**ex 2.5**  \n",
    "The *taxicab metric* on $\\mathbb R^n$ is given by  \n",
    "$d\\big(\\mathbf x, \\mathbf y\\big) = \\big\\vert x_1 - y_1 \\big \\vert + ... + \\big \\vert x_n-y_n\\big \\vert$  \n",
    "(i.e. metric induced by the 1-norm)  \n",
    "\n",
    "*(i.)* Prove that this is indeed a metric on $\\mathbb R^n$  \n",
    "Symmetry and positive definiteness are immediate.  Triangle Inequality is inherited from the 1-d case, i.e. for arbitrary $\\mathbf x, \\mathbf y, \\mathbf z \\in \\mathbb R^n$  \n",
    "\n",
    "$d\\big(\\mathbf x, \\mathbf z\\big)$  \n",
    "$= d\\big(\\mathbf x -\\mathbf y, \\mathbf y +\\mathbf z\\big)$  \n",
    "$= \\big\\vert x_1 -y_1 + y_1- z_1 \\big \\vert + ... + \\big \\vert x_n-y_n + y_n-z_n\\big \\vert$  \n",
    "$\\leq  \\big\\vert x_1 -y_1\\big \\vert + \\big \\vert y_1- z_1 \\big \\vert + ... + \\big \\vert x_n-y_n \\big \\vert + \\big \\vert y_n-z_n\\big \\vert$  \n",
    "$=d\\big(\\mathbf x, \\mathbf z\\big)+d\\big(\\mathbf z, \\mathbf y\\big)$    \n",
    "\n",
    "*(ii.)*  \n",
    "Describe the open balls in the taxicab metric on $\\mathbb R^2$  \n",
    "it suffices to discuss the unit ball (centered at the origin). This has points at $\\big\\{(1,0), (0,1), (-1,0),(0,-1)\\big\\}$.  The metric is linear so long as there are no sign changes, hence any convex combination of two of those points also has a length of 1 hence the unit ball is a square (rotated 45 degrees from typical position)  \n",
    "\n",
    "\n",
    "*(iii.)*   \n",
    "How do the usual topology (induced by the 2 norm) and the taxicab metric topology compare on $\\mathbb R^n$?  \n",
    "ref last sentence of page 23 and top of page 24  \n",
    "\n",
    "*note:* selecting $\\delta = 1$ with $\\mathbf x = \\mathbf 0$ and using (ii) vs the unit circle can be pictorially useful  \n",
    "\n",
    "the key inequality chain is:      \n",
    "$d_{2}\\big(\\mathbf x,\\mathbf y\\big) = \\sqrt{\\sum_{k=1}^n (x_k-y_k)^2}\\leq d_{1}\\big(\\mathbf x,\\mathbf y\\big) = \\sum_{k=1}^n \\big \\vert x_k-y_k\\big \\vert \\cdot 1 \\leq \\sqrt{\\sum_{k=1}^n (x_k-y_k)^2} \\cdot \\sqrt{n}=d_{2}\\big(\\mathbf x,\\mathbf y\\big)\\cdot \\sqrt{n} $   \n",
    "by triangle inequality, then Cauchy-Schwarz   \n",
    "\n",
    "**For convenience we translate the space by** $\\mathbf x$ \n",
    "i.e. assume WLOG that $\\mathbf x =\\mathbf 0$). So the above reads     \n",
    "$\\big \\Vert \\mathbf y \\big \\Vert_2 \\leq \\big \\Vert \\mathbf y \\big \\Vert_1\\leq \\sqrt{n}\\cdot\\big \\Vert \\mathbf y \\big \\Vert_2 $   \n",
    "\n",
    "So applying top of p. 24, select arbitrary $\\mathbf x$ and fix arbitrary $\\delta \\gt 0$  \n",
    "$B_1\\big(\\mathbf x, \\delta\\big) \\subseteq B_2\\big(\\mathbf x, \\delta\\big)$  \n",
    "where the LHS reads: all $\\mathbf y$ such that $\\big \\Vert \\mathbf y \\big \\Vert_1 \\lt \\delta$ and said points have an even smaller distance under the standard metric i.e. $\\big \\Vert \\mathbf y \\big \\Vert_2$,  hence they are $\\in B_2\\big(\\mathbf x, \\delta\\big)$  \n",
    "\n",
    "For the other direction  \n",
    "$B_2\\big(\\mathbf x, \\frac{\\delta}{\\sqrt{n}}\\big) \\subseteq B_1\\big(\\mathbf x, \\delta\\big)$  \n",
    "where the LHS reads: the set of all $\\mathbf y$ such that $\\big \\Vert \\mathbf y\\big \\Vert_2 \\lt \\frac{\\delta}{\\sqrt n}$ and  \n",
    "$\\big \\Vert \\mathbf y\\big \\Vert_2\\leq \\big \\Vert \\mathbf y\\big \\Vert_1 \\leq \\sqrt{n}\\cdot \\big \\Vert \\mathbf y\\big \\Vert_2\\lt \\sqrt{n}\\cdot\\frac{\\delta}{\\sqrt n}= \\delta$  \n",
    "hence  \n",
    "$\\big \\Vert \\mathbf y\\big \\Vert_2 \\lt \\frac{\\delta}{\\sqrt n}\\implies \\big \\Vert \\mathbf y\\big \\Vert_1 \\lt \\delta$\n",
    "and accordingly $\\mathbf y \\in  B_1\\big(\\mathbf x, \\delta\\big)$   \n",
    "\n"
   ]
  },
  {
   "cell_type": "markdown",
   "metadata": {},
   "source": [
    "**ex 2.6**  \n",
    "A space $(X, T)$ is said to be a $T_1$-space if for any $x \\in X$ the complement of $\\{x\\}$ is open in $X$.  \n",
    "\n",
    "*(i)* Show that a metric space is $T_1$.  \n",
    "consider $\\{x\\}^C = X - \\{x\\}$.   Then \n",
    "\n",
    "$\\{x\\}^C =  \\bigcup_{x' \\in X-\\{x\\}}x'=  \\bigcup_{x' \\in X-\\{x\\}} B\\big(x', \\delta_{x'} \\big)$  \n",
    "where e.g.  \n",
    "$\\delta_{x'}:= \\dfrac{d\\big(x',x\\big)}{2}$  \n",
    "since each open ball is open (def 2.3.1 on p.18) and arbitrary unions of open sets are open, we see $\\{x\\}^C$ is open  \n",
    "\n",
    "*(ii)* Which of the topologies on the three-point set are $T_1$?  \n",
    "the finest topology, the discrete topology, (i.e. the top left circle) is $T_1$ for obvious reasons. There is only one topology that is connected to it, which per bottom of p.21 is the 'next coarsest'.  This one is not $T_1$ -- if we remove the middle point then the set containing the left-most and right-most point is not open.  Since all other topologies are below (i.e. coarser) they are not $T_1$ either.    \n",
    "\n",
    "\n",
    "*(iii)* Show that being $T_1$ is a topological property.  \n",
    "Let $g$ be a homeomorphism, $g:(X, T)\\longrightarrow (Y, T_Y)$  \n",
    "for arbitrary $x \\in X$  \n",
    "$g(x)=y$ so $g:\\{x\\}\\mapsto \\{y\\}\\implies g:\\{x\\}^C\\mapsto \\{y\\}^C$  \n",
    "(i.e. because $g\\big(\\{x\\}\\big)\\cup\\big(\\{x\\}^C\\big)=g\\big(\\{x\\}\\cup\\{x\\}^C\\big) = g(X) =Y$)   \n",
    "$h:=g^{-1}$ is continuous so applying def 2.9 (p.24)   \n",
    "$h^{-1}(\\{x\\}^C)=g(\\{x\\}^C)$ is open  \n",
    "(where $h^{-1}$ may be taken to be either the function inverse-- since it must exist for a homeomorphism-- or the preimage)  \n",
    "\n",
    "# discussion point  \n",
    "the above treats the 'if' in def 2.9 (p. 24) but it seems to really be an 'iff' i.e. it says open set criterion implies continuity but I think continuity implies open set criterion  \n",
    "\n",
    "in the metric space context --theorem 2.4 (p.19)-- it was a clean 'iff'.  I believe 'iff' was meant-- discuss with the group  \n"
   ]
  },
  {
   "cell_type": "code",
   "execution_count": null,
   "metadata": {},
   "outputs": [],
   "source": []
  },
  {
   "cell_type": "code",
   "execution_count": null,
   "metadata": {},
   "outputs": [],
   "source": []
  },
  {
   "cell_type": "code",
   "execution_count": null,
   "metadata": {},
   "outputs": [],
   "source": []
  },
  {
   "cell_type": "code",
   "execution_count": null,
   "metadata": {},
   "outputs": [],
   "source": []
  }
 ],
 "metadata": {
  "kernelspec": {
   "display_name": "Python 3",
   "language": "python",
   "name": "python3"
  },
  "language_info": {
   "codemirror_mode": {
    "name": "ipython",
    "version": 3
   },
   "file_extension": ".py",
   "mimetype": "text/x-python",
   "name": "python",
   "nbconvert_exporter": "python",
   "pygments_lexer": "ipython3",
   "version": "3.8.5"
  }
 },
 "nbformat": 4,
 "nbformat_minor": 4
}
