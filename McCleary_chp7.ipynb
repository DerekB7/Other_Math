{
 "cells": [
  {
   "cell_type": "markdown",
   "metadata": {},
   "source": [
    " discuss: on deformation retracts  \n",
    "(i) This is defined under Def 7.8 (p. 101).   This nearly conforms with the definition on Wolfram Mathworld\n",
    "https://mathworld.wolfram.com/DeformationRetract.html  \n",
    "except McCleary says $F(a,t) = a$ for all $a \\in \\big[0,1\\big]$ and MathWorld has the weaker requirement $F(a,1) = a$ \n",
    "(ii) in what sense in the McCleary definition is $i\\circ r$ homotopic to the identity on $X$?  I understand the symbolic definition that follows but I see no reason why $A$ couldn't be not simply connected  \n"
   ]
  },
  {
   "cell_type": "code",
   "execution_count": null,
   "metadata": {},
   "outputs": [],
   "source": []
  },
  {
   "cell_type": "markdown",
   "metadata": {},
   "source": [
    "**ex 6.2**  \n",
    "**cleanup needed**\n",
    "\n",
    "Suppose that $f:X \\longrightarrow S^2$ is a continuous mapping that is not surjective.  Show that $f$ is homotopic to a constant mapping.  \n",
    "\n",
    "First we can suppose WLOG$^*$ that $\\mathbf e_1$, the North Pole of $S^2$ is not in the image of $f$. And let $A:=  S^2-\\big\\{\\mathbf e_1\\big\\}$ \n",
    "\n",
    "And let $g$ be the (generalized) stereographic projection that gives a homeomorphism between $S^2$ and $\\mathbb R^2\\cup\\big\\{\\infty\\big\\}$ (p.91).  Finally denote by $H'$ the linear homotopy$^*$ (convex combination) from bottom of p.102, with $\\mathbf 0$ as our chosen base point.  \n",
    "\n",
    "$H: X\\times \\big[0,1\\big]\\longrightarrow S^2$ is a homotopy between $f$ and a constant (the South Pole), with  \n",
    "$H=g^{-1}\\circ H' \\circ g \\circ f$  \n",
    "\n",
    "Technical nits:  \n",
    "*(i)* The WLOG holds-- if not apply $f$ then multiply our coordinates for $S^2$ with length (2 norm of) 1 by some orthogonal matrix $Q$ such that a point in our codomain but not in the image of $f$ would have coordinate $\\mathbf e_1$.  I.e. we'd have $H=g^{-1}\\circ H' \\circ g \\circ Q \\circ f$ which is something of a distraction\n",
    "\n",
    "*(ii)* $H=g^{-1}\\circ H' \\circ g \\circ f$ technically has domain agreement issues.  I.e. What we really want is  \n",
    "$H=g^{-1}\\circ H' \\circ g' \\circ f'$  \n",
    "where $f$ and $g$ each work on a product space of their regular domain $\\times \\big[0,1\\big]$ and act as the identity on $\\big[0,1\\big]$.  Recalling Prop 4.10 on p. 52, this is continuous.  \n",
    "\n",
    "\n",
    "*(iii)* we actually have $H'$ behave as stated on $\\mathbb R^2$ and for maps $\\infty \\to \\infty$.  Checking Def 6.11 on p.90, this satisfies continuity for the usual case (1) and for case (2), which includes the point of $\\infty$, we can check, whenever $K$ is compact, in $X$, i.e. closed and bounded in $X$, then this in effect is provided for by $(1)$ since the complement, $K$ is closed and bounded in $X$, its pre-image under $H'$ is closed and bounded in $X$, and we take complements of each to get the result.  \n",
    "\n",
    "\n"
   ]
  },
  {
   "cell_type": "code",
   "execution_count": null,
   "metadata": {},
   "outputs": [],
   "source": []
  },
  {
   "cell_type": "markdown",
   "metadata": {},
   "source": [
    "**ex 7.4**  \n",
    "Suppose that $X$ is a path-connected space.  When is it true that for any pair of points $p,q\\in X$ all paths from $p$ to $q$ induce the same isomorphism between $\\pi\\big(X,p\\big)$ and $\\pi_1\\big(X,q\\big)$?  \n",
    "\n",
    "\n",
    "let $\\gamma$ and $\\gamma'$ be arbitrarily chosen paths from $p$ to $q$ and $\\phi$ and $\\phi'$ be the associated isomorphisms.  If  \n",
    "\n",
    "$\\phi\\Big(\\pi\\big(X,p\\big)\\Big)=\\phi'\\Big(\\pi\\big(X,p\\big)\\Big)$  \n",
    "(i.e. actual equality, not a mere isomorphism), then for arbitrary $\\lambda \\in \\pi\\big(X,p\\big)$  \n",
    "\n",
    "$\\big[\\gamma^{-1}*\\lambda * \\gamma\\big]=\\big[(\\gamma')^{-1}*\\lambda * \\gamma'\\big]$  \n",
    "applying $\\phi^{-1}$ to each gives  \n",
    "$\\big[\\lambda \\big]=\\big[\\gamma* (\\gamma')^{-1}*\\lambda * \\gamma'*\\gamma^{-1}\\big]=\\big[(\\gamma'\\gamma^{-1})^{-1}*\\lambda * (\\gamma'\\gamma^{-1})\\big]$  \n",
    "\n",
    "note that  \n",
    "$(\\gamma'\\gamma^{-1})$ is a loop that starts at $p$ and ends at $p$ so $(\\gamma'\\gamma^{-1}) \\in \\pi\\big(X,p\\big)$  \n",
    "Thus a sufficient condition for $p$ to $q$ to induce the same isomorphism between $\\pi\\big(X,p\\big)$ and $\\pi_1\\big(X,q\\big)$ is for $\\pi\\big(X,p\\big)$ to be an abelian group\n"
   ]
  },
  {
   "cell_type": "code",
   "execution_count": null,
   "metadata": {},
   "outputs": [],
   "source": []
  },
  {
   "cell_type": "markdown",
   "metadata": {},
   "source": [
    "**ex 7.5**  \n",
    "Prove that a disk (with the usual topology I assume) minus two points is a deformation retract of a figure 8 (that is $S^1 \\lor S^1$) (ref p.56 for the one point unions of pointed spaces).   \n",
    "\n",
    "note: Assume a closed disk for convenience.  It seems prudent to assume 2 points deleted from the *interior* of a disk, however this may not be strictly required.  \n",
    "\n",
    "The problem is conceptually and geometrically straightforward.  Provided we don't get lost in coordinates, it is straightforward, so here is an outline.  \n",
    "\n",
    "\n",
    "We can assume WLOG that the 2 deleted points are on the same vertical line.  (If not draw a line segment connecting the 2 points and choose the midpoint to be the origin, then multiply by $Q\\in SO_2$ such that the line segment is vertical.  We may always compose the homotopy with conjugation by $Q$ hence the WLOG assumption.)   \n",
    "\n",
    "Now draw two circles around the 2 deleted points, such that the circle intersect in exactly one point (on the vertical line that 'connects' them)\n",
    "\n",
    "From here we have a homotopy as follows  \n",
    "all points on the horizontal line that meets this intersection point are retracted/ homotopic to the point of inersection.  Any point $p$ (excluding the 2 deleted ones) inside a given circle are retracted/homotopic to the point on the boundary of the circle on the same ray as $p$ from the center of the circle.  All other points, i.e. not inside the 2 small circles and not on the horizontal line hitting their intersection point, are taken care of via the (continuous time parameterization of the) stereographic projection with the 'north pole' in each case being the single point of intersection.  The end result of the homotopy is 2 circles intersecting at a single point, which is homeomorphic to the standard symmetric  $S^1 \\lor S^1$.  \n",
    "\n"
   ]
  },
  {
   "cell_type": "code",
   "execution_count": null,
   "metadata": {},
   "outputs": [],
   "source": []
  },
  {
   "cell_type": "markdown",
   "metadata": {},
   "source": [
    "**ex 7.6**  \n",
    "A *starlike space* is a slightly weaker notion than a convex space-- in starlike space $X \\subseteq \\mathbb R^n$, there is a point $x_0 \\in X$ so that for any other point $y\\in X$ and any $t\\in \\big[0,1\\big]$ the point  \n",
    "$t\\cdot x_0+(1-t)\\cdot y \\in X$.  \n",
    "\n",
    "(i)  Give an example of a starlike space that is not convex.  \n",
    "A standard example would be either the 'regular' star (with 5 extreme points) or a ninja/throwing star (with 4 extreme points).  In either case let $x_0$ be the center point \n",
    "\n",
    "(ii) Show that a starlike space is a deformation retract of a point.  \n",
    "The argument is essentially identical to that of the final paragraph of page p.102.  The only difference is when dealing with convex sets, we may select arbitrary point to be $x_0$ but for starlike spaces we do not have this discretion and need to use the $x_0$ specified in defining the starlike space.  So as on p. 102 we use the convex combination / linear homotopy $H\\big(y,\\tau)=\\tau \\cdot x_0 + (1-\\tau)\\cdot y$"
   ]
  },
  {
   "cell_type": "code",
   "execution_count": null,
   "metadata": {},
   "outputs": [],
   "source": []
  }
 ],
 "metadata": {
  "kernelspec": {
   "display_name": "Python 3",
   "language": "python",
   "name": "python3"
  },
  "language_info": {
   "codemirror_mode": {
    "name": "ipython",
    "version": 3
   },
   "file_extension": ".py",
   "mimetype": "text/x-python",
   "name": "python",
   "nbconvert_exporter": "python",
   "pygments_lexer": "ipython3",
   "version": "3.8.5"
  }
 },
 "nbformat": 4,
 "nbformat_minor": 4
}
