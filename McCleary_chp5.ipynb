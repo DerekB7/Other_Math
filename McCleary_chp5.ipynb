{
 "cells": [
  {
   "cell_type": "code",
   "execution_count": null,
   "metadata": {},
   "outputs": [],
   "source": []
  },
  {
   "cell_type": "markdown",
   "metadata": {},
   "source": [
    "Discuss Artin Terminology from Chp 2.misc  "
   ]
  },
  {
   "cell_type": "markdown",
   "metadata": {},
   "source": [
    "misc. notes:  \n",
    "an equivalent criterion for a separation of $X$ is some non-empty $A \\subset X$ (where the subset is proper) with \n",
    "$A$ being *clopen* (i.e. closed and open).  The McCleary shows that his criterion implies such a clopen set.  For the other direction.  Suppose we have such a satisfying $A$ then  \n",
    "$A\\cup A^C = X$ and $A\\cap A^C = \\big\\{\\big\\}$.  $A$ is open so $A^C$ is closed.  And $A$ is closed so $A^C$ is open hence $A$ and $A^C$ are disjoint non-empty open sets and we have a separation.      \n"
   ]
  },
  {
   "cell_type": "code",
   "execution_count": null,
   "metadata": {},
   "outputs": [],
   "source": []
  },
  {
   "cell_type": "markdown",
   "metadata": {},
   "source": [
    "**ex 5.1**  \n",
    "*(i)*  Prove that any infinite set $X$ with the finite complement topology is connected.  \n",
    "ref p. 21  \n",
    "Suppose there is a separation, then there is non empty $A\\subset X$ (proper) where  \n",
    "\n",
    "$A$ is clopen.  By $A$ being open $A^C$ is finite.  By $A$ being closed, $A^C$ is open, hence $A$ is finite.  \n",
    "Then $X= A\\cup A^C$ but $\\big \\vert X\\big \\vert \\gt \\big \\vert A \\big \\vert +\\big \\vert A^C \\big \\vert=\\big \\vert A\\cup A^C \\big \\vert$  \n",
    "\n",
    "which is a contradiction (using the fact that $X$ is an infinite set).  Hence no separation can exist and $X$ is connected.  \n",
    "\n",
    "*(ii)* Is the space $X$ with $\\big(\\mathbb R, \\text{half-open}\\big)$ connected?  \n",
    "ref page 23, with basis elements $[a,b)$ for $a\\lt b$, this is a strictly finer topology on $\\mathbb R$ than the usual one and has basis elements  \n",
    "\n",
    "$U := \\big(-\\infty, 0\\big)=\\bigcup_{k=2}^\\infty \\big[-k,-\\frac{1}{k}\\big)$  \n",
    "$V := \\big[0,\\infty\\big) = \\bigcup_{k=1}^\\infty \\big[0,k\\big)$  \n",
    "each being the union of open sets is open.  And  \n",
    "\n",
    "$\\mathbb R = U \\cup V$ with $U \\cap V = \\big\\{\\big\\}$  \n",
    "this is a separation, hence $\\big(\\mathbb R, \\text{half-open}\\big)$ *is not* connected  "
   ]
  },
  {
   "cell_type": "code",
   "execution_count": null,
   "metadata": {},
   "outputs": [],
   "source": []
  },
  {
   "cell_type": "markdown",
   "metadata": {},
   "source": [
    "**ex 5.2**  \n",
    "A subset $K\\subseteq \\mathbb R$ (with the usual topology I assume, though this wasn't stated) is convex if for any $c, d\\in K$ (with $c\\leq d$) then the set  \n",
    "$\\big[c,d\\big] = \\Big\\{c\\cdot (1-t) + d\\cdot t\\Big\\}$ for $t\\in [0,1]$ is contained in $K$.  Show that a convex subset of $\\mathbb R$ is an open, closed, or half-open interval.   \n",
    "\n",
    "note the case of $c=d$ trivially holds as closed, so we ignore it.  Let  \n",
    "$m= \\inf K$ and $M =\\sup K$  \n",
    "the case is easy if both $m=-\\infty$ and $M=\\infty$.  We have the open interval $K=\\big(-\\infty, \\infty\\big)$  \n",
    "\n",
    "We now consider the case where both $m$ and $M$ are finite.  (The hybrid case should be clear/implied in a 'divide and conquer' sense.)   \n",
    "select $z = \\frac{d-c}{2}$.  Then for $\\epsilon_k :=2^{-k}$ for $k$ large enough we have  \n",
    "$\\big[z, d -\\epsilon_k\\big] \\subseteq K $   \n",
    "and  \n",
    "$\\big[c+\\epsilon_k, z \\big] \\subseteq K $   \n",
    "\n",
    "so taking unions we have  \n",
    "$\\big(m,M\\big)= \\bigcup_{k\\geq K}\\big[m+\\epsilon_k, M -\\epsilon_k\\big]=\\bigcup_{k\\geq K}\\Big(\\big[m+\\epsilon_k, z \\big]\\cup \\big[z, M -\\epsilon_k\\big]\\Big)\\subseteq K$  \n",
    "\n",
    "if $M \\in K$ and $m\\notin K$ then $K = \\big(m,M\\big]$.  If both in $K$ then $K = \\big[m,M\\big]$.  \n",
    "If $m\\in K$ but $M$ not then $K = \\big[m,M\\big)$ and if neither in $K$ then $K = \\big(m,M\\big)$.   \n",
    "\n",
    "note: by the definitions of $\\inf$ and $\\sup$ we know $K$ cannot have points smaller than $m$ or larger than $M$.  "
   ]
  },
  {
   "cell_type": "code",
   "execution_count": null,
   "metadata": {},
   "outputs": [],
   "source": []
  },
  {
   "cell_type": "markdown",
   "metadata": {},
   "source": [
    "**ex 5.3**  \n",
    "Suppose we have a sequence of connected subspaces $\\Big\\{X_i \\big \\vert i= 1,2,3, ... \\Big\\}$ of a given space $X$.  Suppose further that $X_i \\cap X_{i+1}\\neq \\big\\{ \\big\\}$ for all $i$.  Show that the union $Y:=\\bigcup_{i=1}^\\infty X_i$ is connected.  \n",
    "\n",
    "**The below should be cleaned up somewhat**  \n",
    "\n",
    "let $p_1 \\in X_1 \\cap X_2$ and in general $p_j \\in X_j \\cap X_{j+1}$   \n",
    "\n",
    "and mimicking p.75 define $\\big[p_1\\big]$ an equivalence class of the connected component (clean up) containing $p_1$.  Equivalently let $A$ be the largest connected subset of $X$ containing $p_1$.  Then, partially mimicking ex 4.8, consider the quotient topology $X/A$, where all points in $X$ that are $\\sim p_1$ are identified with a singleton $p_1'$ in the quotient space and each point $x \\not \\sim p_1$ is identified with $x'$ in the quotient space.  \n",
    "\n",
    "We claim $Y \\subseteq A$. Or equivalently that $Y/A = \\big\\{p_1\\big\\}.$    \n",
    "\n",
    "Suppose for a contradiction that this is not true.  Then there is some $z\\in Y$ but $z\\notin A$.  However it must be the case that $z\\in X_k$ for some $k$.  But using transitivity of an equivalence relation, we have  \n",
    "$z \\sim p_k\\sim p_{k-1}\\sim ... \\sim p_{2}\\sim p_1$  \n",
    "hence $z \\in A$, a contradiction.  \n",
    "\n",
    "Put differently, quoting page 75 (with substitution $[p_1]$ for $x$):  \n",
    "\"$[p_1]$ is the union of all connected subsets of $X$ containing $p_1$ and so it follows from Lemma 5.5 that $[p_1]$ is the largest connected subset containing $p_1$.\" \n",
    "\n",
    "let $A^{(p_2)}$ be the largest connected subset containing $p_2$. Well $p_2\\in X_2 \\subseteq A$ (since $p_1 \\in X_2$ which is connected) and $A$ is connected so $A\\subseteq A^{(p_2)}$. Further $p_1 \\in X_2 \\subseteq A^{(p_2)}$ (since $p_2 \\in X_2$ which is connected) so $A^{(p_2)}\\subseteq A$ i.e. $A^{(p_2)} =A$.  By induction hypothesis we have  \n",
    "\n",
    "$A =A^{(p_2)}=A^{(p_3)}=....=A^{(p_{n-1})}$ and  \n",
    "$A^{(p_{n})}$ is the largest connected subset containing $p_n$, and by identical logic $A^{(p_{n-1})} \\subseteq A^{(p_{n})}$ and $A^{(p_{n})}\\subseteq A^{(p_{n-1})}$ hence  \n",
    "$A^{(p_{n})}= A$  \n",
    "\n",
    "to tighten up the finish: notice that $p_1 \\in X_i$ for arbitrary $i$.  Then we meet the conditions to apply Lemma 5.5, hence $Y$ is connected.   \n"
   ]
  },
  {
   "cell_type": "code",
   "execution_count": null,
   "metadata": {},
   "outputs": [],
   "source": []
  },
  {
   "cell_type": "markdown",
   "metadata": {},
   "source": [
    "**ex 5.5**  \n",
    "consider the (monic) polynomial *function* $p: \\mathbb R \\longrightarrow \\mathbb R$  \n",
    "\n",
    "\n",
    "$p(x) = x^n +a_{n-1}x^{n-1} + ... + a_1 x + a_0$  \n",
    "where $n$ is odd  \n",
    "the idea is to show that for $\\vert x\\vert $ large enough the $x^n$ term dominates and so for negative x the image is negative and for positive x large enough the image is positive.  Then by Intermediate Vaue Theorem (p. 70) this polnomial has (at least one) root.  \n",
    "\n",
    "\n",
    "now consider for all $x \\neq 0$  \n",
    "$p(x) = x^n q(x)$ where  \n",
    "$q(x) = 1 +a_{n-1}x^{-1} + ... + a_1 x^{-(n-1)} + a_0x^{-n}$  \n",
    "$A:= \\vert a_{n-1}\\vert + ... + \\vert a_1 \\vert  + \\vert  a_0\\vert $  \n",
    "\n",
    "for $\\vert x \\vert \\geq 1$   \n",
    "$\\big \\vert q(x)-1\\big \\vert = \\big \\vert a_{n-1}x^{-1} + ... + a_1 x^{-(n-1)} + a_0x^{-n}\\big \\vert \\leq \\big \\vert a_{n-1} \\big \\vert \\cdot  \\big \\vert x^{-1}\\big \\vert + ... + \\big \\vert a_1\\big \\vert \\cdot \\big \\vert x^{-(n-1)} \\big \\vert + \\big \\vert a_0 \\big \\vert \\cdot \\big \\vert x^{-n}\\big \\vert \\leq  \\frac{A}{\\vert x\\vert}$  \n",
    "by triangle inequality and the fact that $\\vert x\\vert^{-k}\\leq \\vert x \\vert^{-1}$  \n",
    "\n",
    "for $\\vert b\\vert \\gt \\max\\big\\{1,2A\\big\\}$  or  \n",
    "$\\frac{1}{\\vert b\\vert} \\lt \\frac{1}{\\max\\{1, 2A\\}}=\\min\\big\\{1, \\frac{1}{2A}\\big\\}$\n",
    "\n",
    "(the 1 is necessary since the inequality is for $\\vert x \\vert \\geq 1$)  \n",
    "\n",
    "$\\big \\vert q(b)-1\\big \\vert \\leq \\frac{A}{\\vert b\\vert}\\lt A\\cdot \\min\\big\\{1, \\frac{1}{2A}\\big\\}\\leq \\frac{1}{2}$   \n",
    "equivalently, \n",
    "\n",
    "if $q(b)-1 \\gt 0$ then  \n",
    "$q(b) \\gt \\frac{3}{2}$   and  if \n",
    "$q(b)-1 \\lt 0$ then  \n",
    "$q(b)-1 \\gt -\\frac{1}{2}\\implies q(b) \\gt \\frac{1}{2}$  \n",
    "hence $q(b) \\gt 0$ and $q(-b)\\gt 0$  \n",
    "\n",
    "(now with $b$ positive )  \n",
    "$p(b) = b^n \\cdot q(b) \\gt 0$ because both terms are positive, and  \n",
    "$p(-b) = (-b)^n \\cdot q(b) = -1 \\cdot p(b) \\lt 0$  \n",
    "hence by Intermediate Value Theorem $p$ has a zero.  "
   ]
  },
  {
   "cell_type": "code",
   "execution_count": null,
   "metadata": {},
   "outputs": [],
   "source": []
  },
  {
   "cell_type": "markdown",
   "metadata": {},
   "source": [
    "**ex 5.6**  \n",
    "*(i)* Suppose that the space $X$ can be written as a product $X= Y_1\\times Y_2$.  Determine the relationship between  \n",
    "$\\pi_0\\big(X\\big)$ and $\\pi_0\\big(Y_1\\big)$ and $\\pi_0\\big(Y_2\\big)$.  \n",
    "\n",
    "Recall from p. 79 that $\\pi_0\\big(X\\big)$ is the set of all equivalence classes -- under the relation given by path connectivity.  \n",
    "\n",
    "Since projections are continuous on the product topology (p.52) and path connectivity is preserved under continuous maps (Theorem 5.14) consider \n",
    "$\\big[x\\big] \\in \\pi_0\\big(X\\big)$  \n",
    "then, perhaps with an abuse of notation, we have  \n",
    "$\\text{pr}_1\\Big(\\big[x\\big]\\Big) = \\big[y_1\\big]$ and  \n",
    "$\\text{pr}_2\\Big(\\big[x\\big]\\Big) = \\big[y_2\\big]$   \n",
    "\n",
    "Thus any path-connected component in $X$ has exactly one path connected component in $Y_1$ and exactly one path connected component $Y_2$.  \n",
    "\n",
    "Conversely consider one path connected component $\\big[y_1\\big]$ in $Y_1$ and $\\big[y_2\\big]$ in $Y_2$.  Then in essence mimicking the proof of prop 5.17, we see that $\\big[y_1\\big] \\times \\big[y_2\\big]$ is path connected in $X$.  And the first direction (i.e. via use of projections) we see this is maximal sized in $X$ i.e. this path connected component in $X$ cannot have other elements or else when we apply $\\text{pr}_1$ and $\\text{pr}_2$ we will generate a contradiction.    \n",
    "\n",
    "*(ii)* Suppose that $G$ is a topological group (recall ex 4.6).  Show that $\\pi_0\\big(G\\big)$ is also a group.   Mimicking (2) on top of p. 80, we have  \n",
    "continuous maps $f$ and $g$ represented by $f, g \\in G$.  And the functoriality of $\\pi_0$ gives us a homomorphism, i.e.  \n",
    "$\\phi_0\\big(g\\circ f\\big) = \\phi_0\\big(g\\big) \\circ \\phi_0\\big(f\\big)$, so  \n",
    "$\\phi_0 : G \\longrightarrow G'$  \n",
    "where $G':= \\phi_0\\big(G\\big)$  \n",
    "i.e. the image of $\\phi_0$  \n",
    "\n",
    "It is almost immediate that $G'$ is a group since we get binary operation, associativity, existence of identity and inverses in $G'$ since $\\phi_0$ is a homomorphism.    \n",
    "\n",
    "\n",
    "\n",
    "\n"
   ]
  },
  {
   "cell_type": "code",
   "execution_count": null,
   "metadata": {},
   "outputs": [],
   "source": []
  }
 ],
 "metadata": {
  "kernelspec": {
   "display_name": "Python 3",
   "language": "python",
   "name": "python3"
  },
  "language_info": {
   "codemirror_mode": {
    "name": "ipython",
    "version": 3
   },
   "file_extension": ".py",
   "mimetype": "text/x-python",
   "name": "python",
   "nbconvert_exporter": "python",
   "pygments_lexer": "ipython3",
   "version": "3.8.5"
  }
 },
 "nbformat": 4,
 "nbformat_minor": 4
}
